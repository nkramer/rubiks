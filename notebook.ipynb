{
 "cells": [
  {
   "cell_type": "code",
   "execution_count": 1,
   "id": "1c13f7ec",
   "metadata": {},
   "outputs": [
    {
     "name": "stdout",
     "output_type": "stream",
     "text": [
      "Requirement already satisfied: numpy in c:\\users\\nick.000\\source\\rubiks\\.venv\\lib\\site-packages (2.3.1)\n",
      "Note: you may need to restart the kernel to use updated packages.\n"
     ]
    }
   ],
   "source": [
    "%pip install numpy"
   ]
  },
  {
   "cell_type": "code",
   "execution_count": 2,
   "id": "92ab1038",
   "metadata": {},
   "outputs": [],
   "source": [
    "import numpy as np\n",
    "# axes = (up/down, left/right, back/front, faces)\n",
    "# faces = the colors of (up/down, left/right, back/front)\n",
    "\n",
    "top    = 0, slice(0,3), slice(0,3), 0 #a[0,:,:,0]\n",
    "bottom = 2, slice(0,3), slice(0,3), 0 #a[0,:,:,0]\n",
    "left   = slice(0,3), 0, slice(0,3), 1\n",
    "right  = slice(0,3), 2, slice(0,3), 1\n",
    "front  = slice(0,3), slice(0,3), 0, 2\n",
    "back   = slice(0,3), slice(0,3), 2, 2\n",
    "\n",
    "a = np.zeros(3*3*3*3, dtype='str').reshape([3,3,3,3])\n",
    "a[:,:,:,:] = '-'\n",
    "a[top] = 'W'\n",
    "a[bottom] = 'Y'\n",
    "a[left] = 'O'  \n",
    "a[right] = 'R' \n",
    "a[front] = 'G' \n",
    "a[back] = 'B'  \n"
   ]
  },
  {
   "cell_type": "code",
   "execution_count": 3,
   "id": "6e7d468b",
   "metadata": {},
   "outputs": [
    {
     "name": "stdout",
     "output_type": "stream",
     "text": [
      "        W W W                \n",
      "        W W W                \n",
      "        W W W                \n",
      "O O O   G G G   R R R   B B B\n",
      "O O O   G G G   R R R   B B B\n",
      "O O O   G G G   R R R   B B B\n",
      "        Y Y Y                \n",
      "        Y Y Y                \n",
      "        Y Y Y                \n"
     ]
    }
   ],
   "source": [
    "def p(a=a): # Print the cube\n",
    "    blank = np.zeros(3*3, dtype='str').reshape([3,3]); blank[:,:] = ' '\n",
    "    strip = np.zeros(3*1, dtype='str').reshape([3,1]); strip[:,:] = ' '\n",
    "    c = np.concatenate((\n",
    "        np.concatenate((blank, strip, a[top], strip, blank, strip, blank), axis=1),\n",
    "        np.concatenate((a[left], strip, a[front], strip, a[right], strip, a[back]), axis=1),\n",
    "        np.concatenate((blank, strip, a[bottom], strip, blank, strip, blank), axis=1)\n",
    "    ))\n",
    "    for i in range(c.shape[0]):\n",
    "        print(' '.join(c[i,:]) )\n",
    "\n",
    "p()"
   ]
  },
  {
   "cell_type": "code",
   "execution_count": 4,
   "id": "8c9ae873",
   "metadata": {},
   "outputs": [
    {
     "name": "stdout",
     "output_type": "stream",
     "text": [
      "        W W W                \n",
      "        W W W                \n",
      "        W W W                \n",
      "O O O   G G G   R R R   B B B\n",
      "O O O   G G G   R R R   B B B\n",
      "O O O   G G G   R R R   B B B\n",
      "        Y Y Y                \n",
      "        Y Y Y                \n",
      "        Y Y Y                \n",
      "        W W W                \n",
      "        W W W                \n",
      "        W W W                \n",
      "B B B   O O O   G G G   R R R\n",
      "O O O   G G G   R R R   B B B\n",
      "O O O   G G G   R R R   B B B\n",
      "        Y Y Y                \n",
      "        Y Y Y                \n",
      "        Y Y Y                \n"
     ]
    }
   ],
   "source": [
    "# Rotate the top clockwise\n",
    "def rotate_top(cube):\n",
    "    b=cube.copy()\n",
    "    #b = np.roll(b.transpose([1,2,0,3]), 2, axis=3) # Transpose to rearrange the axes; roll to rearrange the faces of the cubelets\n",
    "    #b[top] = np.arange(9).reshape(3,3)\n",
    "    b[top] = b[top].transpose()\n",
    "    b[top] = np.flip(b[top], axis=1)\n",
    "    for face1, face2 in zip([left, front, right, back], [back, left, front, right]):\n",
    "        b[face1][0,:] = cube[face2][0,:]\n",
    "    return b\n",
    "\n",
    "p(a)\n",
    "p(rotate_top(a))"
   ]
  },
  {
   "cell_type": "code",
   "execution_count": null,
   "id": "75e35271",
   "metadata": {},
   "outputs": [
    {
     "name": "stdout",
     "output_type": "stream",
     "text": [
      "        W W W                \n",
      "        W W W                \n",
      "        W W W                \n",
      "O O O   G G G   R R R   B B B\n",
      "O O O   G G G   R R R   B B B\n",
      "O O O   G G G   R R R   B B B\n",
      "        Y Y Y                \n",
      "        Y Y Y                \n",
      "        Y Y Y                \n",
      "        B B B                \n",
      "        B B B                \n",
      "        B B B                \n",
      "O O O   W W W   R R R   Y Y Y\n",
      "O O O   W W W   R R R   Y Y Y\n",
      "O O O   W W W   R R R   Y Y Y\n",
      "        G G G                \n",
      "        G G G                \n",
      "        G G G                \n"
     ]
    }
   ],
   "source": [
    "# axes = (up/down, left/right, back/front, faces)\n",
    "# faces = the colors of (up/down, left/right, back/front)\n",
    "\n",
    "p(a)\n",
    "# broken, see perm()\n",
    "def reorient(cube, newTop):\n",
    "    before = [top, bottom, left, front, right, back]\n",
    "    after = before\n",
    "    match newTop:\n",
    "        case 'U': after=before\n",
    "        case 'D': after=[bottom, top, left, back, right, front]\n",
    "        case 'L': after=[right, left, top, front, bottom, back]\n",
    "        case 'R': after=[left, right, bottom, front, top, back]\n",
    "        case 'F': after=[back, front, left, top, right, bottom]\n",
    "        case 'B': after=[front, back, left, bottom, right, top]\n",
    "    b=cube.copy()\n",
    "    for face1, face2 in zip(before, after):\n",
    "        b[face2] = cube[face1]\n",
    "    return b\n",
    "\n",
    "p(reorient(a, 'B'))"
   ]
  },
  {
   "cell_type": "code",
   "execution_count": null,
   "id": "e329de6e",
   "metadata": {},
   "outputs": [
    {
     "ename": "SyntaxError",
     "evalue": "invalid syntax (138372638.py, line 3)",
     "output_type": "error",
     "traceback": [
      "  \u001b[36mCell\u001b[39m\u001b[36m \u001b[39m\u001b[32mIn[6]\u001b[39m\u001b[32m, line 3\u001b[39m\n\u001b[31m    \u001b[39m\u001b[31m\"U\":\u001b[39m\n    ^\n\u001b[31mSyntaxError\u001b[39m\u001b[31m:\u001b[39m invalid syntax\n"
     ]
    }
   ],
   "source": [
    "# def rotate_face(cube, face):\n",
    "#     match face:\n",
    "#         \"U\":\n",
    "#             # No reorientation\n",
    "#             cube = rotate_top(cube)\n",
    "#         \"R\":\n",
    "#             t = np.roll(a.transpose([1,2,0,3]), 2, axis=3)\n",
    "# # np.rot90"
   ]
  },
  {
   "cell_type": "code",
   "execution_count": 14,
   "id": "5829927c",
   "metadata": {},
   "outputs": [
    {
     "name": "stdout",
     "output_type": "stream",
     "text": [
      "        W W W                \n",
      "        W W W                \n",
      "        W W W                \n",
      "O O O   G G G   R R R   B B B\n",
      "O O O   G G G   R R R   B B B\n",
      "O O O   G G G   R R R   B B B\n",
      "        Y Y Y                \n",
      "        Y Y Y                \n",
      "        Y Y Y                \n",
      "        O O O                \n",
      "        O O O                \n",
      "        O O O                \n",
      "Y Y Y   G G G   W W W   B B B\n",
      "Y Y Y   G G G   W W W   B B B\n",
      "Y Y Y   G G G   W W W   B B B\n",
      "        R R R                \n",
      "        R R R                \n",
      "        R R R                \n",
      "L\n",
      "hi!\n",
      "hi!\n",
      "hi!\n",
      "        O O O                \n",
      "        O O O                \n",
      "        O O O                \n",
      "G G G   W W W   B B B   Y Y Y\n",
      "Y Y Y   G G G   W W W   B B B\n",
      "Y Y Y   G G G   W W W   B B B\n",
      "        R R R                \n",
      "        R R R                \n",
      "        R R R                \n",
      "        B B B                \n",
      "        W W W                \n",
      "        W W W                \n",
      "O O O   W W W   R R R   Y Y Y\n",
      "O O O   G G G   R R R   B B B\n",
      "O O O   G G G   R R R   B B B\n",
      "        G G G                \n",
      "        Y Y Y                \n",
      "        Y Y Y                \n"
     ]
    }
   ],
   "source": [
    "#udlrfb\n",
    "#L = Clockwise, L' = counterclockwise\n",
    "p(a)\n",
    "def perm(face, cube):\n",
    "    match face[0]:\n",
    "        case 'U': x=('U', 'U')\n",
    "        case 'D': x=('D', 'D')\n",
    "        case 'L': x=('L', 'R')\n",
    "        case 'R': x=('R', 'L')\n",
    "        case 'F': x=('F', 'B')\n",
    "        case 'B': x=('B', 'F')\n",
    "    b=cube.copy()    \n",
    "    b = reorient(b, x[0])\n",
    "    p(b)\n",
    "    print(x[0])\n",
    "    for i in range(3 if len(face) == 1 else 1):\n",
    "        b = rotate_top(b)\n",
    "        print(\"hi!\")\n",
    "    p(b)\n",
    "    b = reorient(b, x[1]) \n",
    "    return b\n",
    "\n",
    "p(perm('L', a))"
   ]
  }
 ],
 "metadata": {
  "kernelspec": {
   "display_name": ".venv",
   "language": "python",
   "name": "python3"
  },
  "language_info": {
   "codemirror_mode": {
    "name": "ipython",
    "version": 3
   },
   "file_extension": ".py",
   "mimetype": "text/x-python",
   "name": "python",
   "nbconvert_exporter": "python",
   "pygments_lexer": "ipython3",
   "version": "3.13.5"
  }
 },
 "nbformat": 4,
 "nbformat_minor": 5
}
