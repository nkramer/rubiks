{
 "cells": [
  {
   "cell_type": "code",
   "execution_count": 3,
   "id": "1c13f7ec",
   "metadata": {},
   "outputs": [
    {
     "name": "stdout",
     "output_type": "stream",
     "text": [
      "Collecting numpy\n",
      "  Downloading numpy-2.2.6-cp313-cp313-win_amd64.whl.metadata (60 kB)\n",
      "Downloading numpy-2.2.6-cp313-cp313-win_amd64.whl (12.6 MB)\n",
      "   ---------------------------------------- 0.0/12.6 MB ? eta -:--:--\n",
      "   ----- ---------------------------------- 1.8/12.6 MB 9.8 MB/s eta 0:00:02\n",
      "   -------------- ------------------------- 4.5/12.6 MB 12.1 MB/s eta 0:00:01\n",
      "   ---------------------- ----------------- 7.1/12.6 MB 12.0 MB/s eta 0:00:01\n",
      "   ------------------------------ --------- 9.7/12.6 MB 11.9 MB/s eta 0:00:01\n",
      "   ---------------------------------------  12.3/12.6 MB 11.9 MB/s eta 0:00:01\n",
      "   ---------------------------------------- 12.6/12.6 MB 11.1 MB/s eta 0:00:00\n",
      "Installing collected packages: numpy\n",
      "Successfully installed numpy-2.2.6\n",
      "Note: you may need to restart the kernel to use updated packages.\n"
     ]
    }
   ],
   "source": [
    "%pip install numpy"
   ]
  },
  {
   "cell_type": "code",
   "execution_count": 49,
   "id": "92ab1038",
   "metadata": {},
   "outputs": [],
   "source": [
    "import numpy as np\n",
    "# axes = (up/down, left/right, back/front, faces)\n",
    "# faces = the colors of (up/down, left/right, back/front)\n",
    "\n",
    "top    = 0, slice(0,3), slice(0,3), 0 #a[0,:,:,0]\n",
    "bottom = 2, slice(0,3), slice(0,3), 0 #a[0,:,:,0]\n",
    "left   = slice(0,3), 0, slice(0,3), 1\n",
    "right  = slice(0,3), 2, slice(0,3), 1\n",
    "front  = slice(0,3), slice(0,3), 0, 2\n",
    "back   = slice(0,3), slice(0,3), 2, 2\n",
    "\n",
    "a = np.zeros(3*3*3*3, dtype='str').reshape([3,3,3,3])\n",
    "a[:,:,:,:] = '-'\n",
    "a[top] = 'W'\n",
    "a[bottom] = 'Y'\n",
    "a[left] = 'O'  \n",
    "a[right] = 'R' \n",
    "a[front] = 'G' \n",
    "a[back] = 'B'  \n"
   ]
  },
  {
   "cell_type": "code",
   "execution_count": 6,
   "id": "6e7d468b",
   "metadata": {},
   "outputs": [
    {
     "name": "stdout",
     "output_type": "stream",
     "text": [
      "        W W W                \n",
      "        W W W                \n",
      "        W W W                \n",
      "O O O   G G G   R R R   B B B\n",
      "O O O   G G G   R R R   B B B\n",
      "O O O   G G G   R R R   B B B\n",
      "        Y Y Y                \n",
      "        Y Y Y                \n",
      "        Y Y Y                \n"
     ]
    }
   ],
   "source": [
    "def p(a=a): # Print the cube\n",
    "    blank = np.zeros(3*3, dtype='str').reshape([3,3]); blank[:,:] = ' '\n",
    "    strip = np.zeros(3*1, dtype='str').reshape([3,1]); strip[:,:] = ' '\n",
    "    c = np.concatenate((\n",
    "        np.concatenate((blank, strip, a[top], strip, blank, strip, blank), axis=1),\n",
    "        np.concatenate((a[left], strip, a[front], strip, a[right], strip, a[back]), axis=1),\n",
    "        np.concatenate((blank, strip, a[bottom], strip, blank, strip, blank), axis=1)\n",
    "    ))\n",
    "    for i in range(c.shape[0]):\n",
    "        print(' '.join(c[i,:]) )\n",
    "\n",
    "p()\n",
    "\n",
    "\n"
   ]
  },
  {
   "cell_type": "code",
   "execution_count": 7,
   "id": "f1fc15f7",
   "metadata": {},
   "outputs": [
    {
     "name": "stdout",
     "output_type": "stream",
     "text": [
      "        W W W                \n",
      "        W W W                \n",
      "        W W W                \n",
      "O O O   G G G   R R R   B B B\n",
      "O O O   G G G   R R R   B B B\n",
      "O O O   G G G   R R R   B B B\n",
      "        Y Y Y                \n",
      "        Y Y Y                \n",
      "        Y Y Y                \n"
     ]
    }
   ],
   "source": [
    "#p(np.roll(a.transpose([1,2,0,3]), 2, axis=3))\n",
    "# Roll is APL's rotate\n",
    "p()\n"
   ]
  },
  {
   "cell_type": "code",
   "execution_count": 8,
   "id": "f6af7ac3",
   "metadata": {},
   "outputs": [
    {
     "name": "stdout",
     "output_type": "stream",
     "text": [
      "        W W W                \n",
      "        W W W                \n",
      "        W W W                \n",
      "B B B   O O O   G G G   R R R\n",
      "O O O   G G G   R R R   B B B\n",
      "O O O   G G G   R R R   B B B\n",
      "        Y Y Y                \n",
      "        Y Y Y                \n",
      "        Y Y Y                \n"
     ]
    }
   ],
   "source": [
    "b=a.copy()\n",
    "(b[left][0,:],b[front][0,:],b[right][0,:],b[back][0,:]) =(a[back][0,:], a[left][0,:],a[front][0,:],a[right][0,:])\n",
    "p(b)\n"
   ]
  },
  {
   "cell_type": "code",
   "execution_count": 9,
   "id": "09e6e1b3",
   "metadata": {},
   "outputs": [
    {
     "name": "stdout",
     "output_type": "stream",
     "text": [
      "        W W W                \n",
      "        W W W                \n",
      "        W W W                \n",
      "G G G   R R R   B B B   O O O\n",
      "O O O   G G G   R R R   B B B\n",
      "O O O   G G G   R R R   B B B\n",
      "        Y Y Y                \n",
      "        Y Y Y                \n",
      "        Y Y Y                \n"
     ]
    }
   ],
   "source": [
    "b=a.copy()\n",
    "copied = [a[face][0,:] for face in [front, right, back, left]]\n",
    "#for face in [left, front, right, back]:\n",
    "for i, face in enumerate([left, front, right, back]):\n",
    "    b[face][0,:] = copied[i]\n",
    "#(b[left][0,:],b[front][0,:],b[right][0,:],b[back][0,:]) =(a[back][0,:], a[left][0,:],a[front][0,:],a[right][0,:])\n",
    "p(b)"
   ]
  },
  {
   "cell_type": "code",
   "execution_count": 10,
   "id": "94a10de2",
   "metadata": {},
   "outputs": [
    {
     "name": "stdout",
     "output_type": "stream",
     "text": [
      "        W W W                \n",
      "        W W W                \n",
      "        W W W                \n",
      "B B B   O O O   G G G   R R R\n",
      "O O O   G G G   R R R   B B B\n",
      "O O O   G G G   R R R   B B B\n",
      "        Y Y Y                \n",
      "        Y Y Y                \n",
      "        Y Y Y                \n"
     ]
    }
   ],
   "source": [
    "b=a.copy()\n",
    "copied = [a[face][0,:] for face in [left, front, right, back]]\n",
    "for i, face in enumerate([left, front, right, back]):\n",
    "    b[face][0,:] = copied[i-1]\n",
    "p(b)"
   ]
  },
  {
   "cell_type": "code",
   "execution_count": 11,
   "id": "eb8f0759",
   "metadata": {},
   "outputs": [
    {
     "name": "stdout",
     "output_type": "stream",
     "text": [
      "        W W W                \n",
      "        W W W                \n",
      "        W W W                \n",
      "B B B   O O O   G G G   R R R\n",
      "O O O   G G G   R R R   B B B\n",
      "O O O   G G G   R R R   B B B\n",
      "        Y Y Y                \n",
      "        Y Y Y                \n",
      "        Y Y Y                \n"
     ]
    }
   ],
   "source": [
    "b=a.copy()\n",
    "faces1 = [left, front, right, back]; faces2 = [back, left, front, right]\n",
    "for f1, f2 in zip(faces1, faces2):\n",
    "    b[f1][0,:] = a[f2][0,:]\n",
    "p(b)"
   ]
  },
  {
   "cell_type": "code",
   "execution_count": 12,
   "id": "5505954e",
   "metadata": {},
   "outputs": [
    {
     "name": "stdout",
     "output_type": "stream",
     "text": [
      "        W W W                \n",
      "        W W W                \n",
      "        W W W                \n",
      "B B B   O O O   G G G   R R R\n",
      "O O O   G G G   R R R   B B B\n",
      "O O O   G G G   R R R   B B B\n",
      "        Y Y Y                \n",
      "        Y Y Y                \n",
      "        Y Y Y                \n"
     ]
    }
   ],
   "source": [
    "b=a.copy()\n",
    "for face1, face2 in zip([left, front, right, back], [back, left, front, right]):\n",
    "    b[face1][0,:] = a[face2][0,:]\n",
    "p(b)"
   ]
  },
  {
   "cell_type": "code",
   "execution_count": 13,
   "id": "8c9ae873",
   "metadata": {},
   "outputs": [
    {
     "name": "stdout",
     "output_type": "stream",
     "text": [
      "        W W W                \n",
      "        W W W                \n",
      "        W W W                \n",
      "O O O   G G G   R R R   B B B\n",
      "O O O   G G G   R R R   B B B\n",
      "O O O   G G G   R R R   B B B\n",
      "        Y Y Y                \n",
      "        Y Y Y                \n",
      "        Y Y Y                \n",
      "        W W W                \n",
      "        W W W                \n",
      "        W W W                \n",
      "B B B   O O O   G G G   R R R\n",
      "O O O   G G G   R R R   B B B\n",
      "O O O   G G G   R R R   B B B\n",
      "        Y Y Y                \n",
      "        Y Y Y                \n",
      "        Y Y Y                \n"
     ]
    }
   ],
   "source": [
    "# Rotate the top clockwise\n",
    "def rotate_top(cube):\n",
    "    b=cube.copy()\n",
    "    #b = np.roll(b.transpose([1,2,0,3]), 2, axis=3) # Transpose to rearrange the axes; roll to rearrange the faces of the cubelets\n",
    "    #b[top] = np.arange(9).reshape(3,3)\n",
    "    b[top] = b[top].transpose()\n",
    "    b[top] = np.flip(b[top], axis=1)\n",
    "    for face1, face2 in zip([left, front, right, back], [back, left, front, right]):\n",
    "        b[face1][0,:] = cube[face2][0,:]\n",
    "    return b\n",
    "\n",
    "p(a)\n",
    "p(rotate_top(a))\n",
    "\n"
   ]
  },
  {
   "cell_type": "code",
   "execution_count": 34,
   "id": "87f1081b",
   "metadata": {},
   "outputs": [
    {
     "name": "stdout",
     "output_type": "stream",
     "text": [
      "        W W W                \n",
      "        W W W                \n",
      "        W W W                \n",
      "O O O   G G G   R R R   B B B\n",
      "O O O   G G G   R R R   B B B\n",
      "O O O   G G G   R R R   B B B\n",
      "        Y Y Y                \n",
      "        Y Y Y                \n",
      "        Y Y Y                \n",
      "        O O O                \n",
      "        O O O                \n",
      "        O O O                \n",
      "G G G   W W W   B B B   Y Y Y\n",
      "G G G   W W W   B B B   Y Y Y\n",
      "G G G   W W W   B B B   Y Y Y\n",
      "        R R R                \n",
      "        R R R                \n",
      "        R R R                \n"
     ]
    }
   ],
   "source": [
    "p(a)\n",
    "def reorient(cube, newTop):\n",
    "    ax=[0,1,2,3]\n",
    "    roll = 0\n",
    "    match newTop:\n",
    "        case 'U' | 'D': ax=[0,1,2,3]; roll=0\n",
    "        case 'L' | 'R': ax=[1,2,0,3]; roll=-1\n",
    "        case 'F' | 'B': ax=[2,1,0,3]; roll=2\n",
    "    #cube = np.roll(a.transpose(ax), 2, axis=3)        # roll wrong!\n",
    "    #cube = a.transpose(ax)        # roll wrong!\n",
    "    cube = np.roll(a.transpose(ax), roll, axis=3)        # roll wrong!\n",
    "    match newTop:                 # also dubious\n",
    "        case 'D' | 'R' | 'B': cube = np.flip(a, axis=0) # reverse\n",
    "        case _: cube = cube\n",
    "    p(cube)\n",
    "\n",
    "reorient(a, 'L')"
   ]
  },
  {
   "cell_type": "code",
   "execution_count": 48,
   "id": "6e2ad280",
   "metadata": {},
   "outputs": [
    {
     "name": "stdout",
     "output_type": "stream",
     "text": [
      "        W W W                \n",
      "        W W W                \n",
      "        W W W                \n",
      "O O O   G G G   R R R   B B B\n",
      "O O O   G G G   R R R   B B B\n",
      "O O O   G G G   R R R   B B B\n",
      "        Y Y Y                \n",
      "        Y Y Y                \n",
      "        Y Y Y                \n",
      "        Y Y Y                \n",
      "        - - -                \n",
      "        W W W                \n",
      "O O O   G G G   O O O   B B B\n",
      "- - -   G G G   - - -   B B B\n",
      "R R R   G G G   R R R   B B B\n",
      "        Y Y Y                \n",
      "        - - -                \n",
      "        W W W                \n"
     ]
    }
   ],
   "source": [
    "# axes = (up/down, left/right, back/front, faces)\n",
    "# faces = the colors of (up/down, left/right, back/front)\n",
    "\n",
    "p(a)\n",
    "def reorient2(cube, newTop):\n",
    "    ax=[0,1,2,3]\n",
    "    roll = 0\n",
    "    k=1\n",
    "    match newTop:\n",
    "        case 'U': ax=[0,1]; k=0; roll=0\n",
    "        case 'D': ax=[2,0]; k=2; roll=0\n",
    "        case 'L': ax=[1,0]; roll=-1\n",
    "        case 'F' | 'B': ax=[2,1,0,3]; roll=-2\n",
    "        case 'U' | 'D': ax=[0,1,2,3]; roll=0\n",
    "        case 'L' | 'R': ax=[1,2,0,3]; roll=-1\n",
    "        case 'F' | 'B': ax=[2,1,0,3]; roll=-2\n",
    "    cube = np.rot90(a, k=k, axes=ax)\n",
    "    #cube = np.roll(cube, roll, axis=3)\n",
    "    p(cube)\n",
    "\n",
    "reorient2(a, 'L')"
   ]
  },
  {
   "cell_type": "code",
   "execution_count": null,
   "id": "75e35271",
   "metadata": {},
   "outputs": [
    {
     "name": "stdout",
     "output_type": "stream",
     "text": [
      "        W W W                \n",
      "        W W W                \n",
      "        W W W                \n",
      "O O O   G G G   R R R   B B B\n",
      "O O O   G G G   R R R   B B B\n",
      "O O O   G G G   R R R   B B B\n",
      "        Y Y Y                \n",
      "        Y Y Y                \n",
      "        Y Y Y                \n",
      "        B B B                \n",
      "        B B B                \n",
      "        B B B                \n",
      "O O O   W W W   R R R   Y Y Y\n",
      "O O O   W W W   R R R   Y Y Y\n",
      "O O O   W W W   R R R   Y Y Y\n",
      "        G G G                \n",
      "        G G G                \n",
      "        G G G                \n"
     ]
    }
   ],
   "source": [
    "# axes = (up/down, left/right, back/front, faces)\n",
    "# faces = the colors of (up/down, left/right, back/front)\n",
    "\n",
    "p(a)\n",
    "def reorient3(cube, newTop):\n",
    "    before = [top, bottom, left, front, right, back]\n",
    "    after = before\n",
    "    match newTop:\n",
    "        case 'U': after=before\n",
    "        case 'D': after=[bottom, top, left, back, right, front]\n",
    "        case 'L': after=[right, left, top, front, bottom, back]\n",
    "        case 'R': after=[left, right, bottom, front, top, back]\n",
    "        case 'F': after=[back, front, left, top, right, bottom]\n",
    "        case 'B': after=[front, back, left, bottom, right, top]\n",
    "    b=cube.copy()\n",
    "    for face1, face2 in zip(before, after):\n",
    "        b[face2] = cube[face1]\n",
    "    p(b)\n",
    "    return b\n",
    "\n",
    "reorient3(a, 'B')"
   ]
  },
  {
   "cell_type": "code",
   "execution_count": 15,
   "id": "e329de6e",
   "metadata": {},
   "outputs": [
    {
     "ename": "SyntaxError",
     "evalue": "invalid syntax (138372638.py, line 3)",
     "output_type": "error",
     "traceback": [
      "  \u001b[36mCell\u001b[39m\u001b[36m \u001b[39m\u001b[32mIn[15]\u001b[39m\u001b[32m, line 3\u001b[39m\n\u001b[31m    \u001b[39m\u001b[31m\"U\":\u001b[39m\n    ^\n\u001b[31mSyntaxError\u001b[39m\u001b[31m:\u001b[39m invalid syntax\n"
     ]
    }
   ],
   "source": [
    "def rotate_face(cube, face):\n",
    "    match face:\n",
    "        \"U\":\n",
    "            # No reorientation\n",
    "            cube = rotate_top(cube)\n",
    "        \"R\":\n",
    "            t = np.roll(a.transpose([1,2,0,3]), 2, axis=3)\n",
    "# np.rot90"
   ]
  },
  {
   "cell_type": "code",
   "execution_count": null,
   "id": "5829927c",
   "metadata": {},
   "outputs": [],
   "source": []
  }
 ],
 "metadata": {
  "kernelspec": {
   "display_name": ".venv",
   "language": "python",
   "name": "python3"
  },
  "language_info": {
   "codemirror_mode": {
    "name": "ipython",
    "version": 3
   },
   "file_extension": ".py",
   "mimetype": "text/x-python",
   "name": "python",
   "nbconvert_exporter": "python",
   "pygments_lexer": "ipython3",
   "version": "3.13.3"
  }
 },
 "nbformat": 4,
 "nbformat_minor": 5
}
