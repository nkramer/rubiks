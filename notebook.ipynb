{
 "cells": [
  {
   "cell_type": "code",
   "execution_count": 95,
   "id": "1c13f7ec",
   "metadata": {},
   "outputs": [
    {
     "name": "stdout",
     "output_type": "stream",
     "text": [
      "Requirement already satisfied: numpy in c:\\users\\nick.000\\source\\rubiks\\.venv\\lib\\site-packages (2.3.1)\n",
      "Note: you may need to restart the kernel to use updated packages.\n"
     ]
    }
   ],
   "source": [
    "%pip install numpy"
   ]
  },
  {
   "cell_type": "code",
   "execution_count": 96,
   "id": "92ab1038",
   "metadata": {},
   "outputs": [],
   "source": [
    "import numpy as np\n",
    "# axes = (up/down, left/right, back/front, faces)\n",
    "# faces = the colors of (up/down, left/right, back/front)\n",
    "\n",
    "top    = 0, slice(0,3), slice(0,3), 0 # == cube[0,:,:,0]\n",
    "bottom = 2, slice(0,3), slice(0,3), 0 \n",
    "left   = slice(0,3), 0, slice(0,3), 1\n",
    "right  = slice(0,3), 2, slice(0,3), 1\n",
    "front  = slice(0,3), slice(0,3), 0, 2\n",
    "back   = slice(0,3), slice(0,3), 2, 2\n",
    "\n",
    "a = np.zeros(3*3*3*3, dtype='str').reshape([3,3,3,3])\n",
    "a[:,:,:,:] = '-'\n",
    "a[top] = 'W'\n",
    "a[bottom] = 'Y'\n",
    "a[left] = 'O'  \n",
    "a[right] = 'R' \n",
    "a[front] = 'G' \n",
    "a[back] = 'B'  \n",
    "\n",
    "# test cube\n",
    "letters = [chr(i) for i in range(ord('a'), ord('z') + 1)] + [chr(i) for i in range(ord('A'), ord('Z') + 1)] + [chr(i) for i in range(ord('0'), ord('9') + 1)]\n",
    "for i in range(len([top, bottom, left, front, right, back])):\n",
    "    face = [top, bottom, left, front, right, back][i]\n",
    "    a[face] = np.array(letters[9*i:9*(i+1)]).reshape([3,3])"
   ]
  },
  {
   "cell_type": "code",
   "execution_count": 97,
   "id": "6e7d468b",
   "metadata": {},
   "outputs": [
    {
     "name": "stdout",
     "output_type": "stream",
     "text": [
      "        c f i                \n",
      "        b e h                \n",
      "        a d g                \n",
      "u t s   B C D   K L M   V U T\n",
      "x w v   E F G   N O P   Y X W\n",
      "A z y   H I J   Q R S   1 0 Z\n",
      "        j m p                \n",
      "        k n q                \n",
      "        l o r                \n"
     ]
    }
   ],
   "source": [
    "def p(a=a): # Print the cube\n",
    "    blank = np.zeros(3*3, dtype='str').reshape([3,3]); blank[:,:] = ' '\n",
    "    strip = np.zeros(3*1, dtype='str').reshape([3,1]); strip[:,:] = ' '\n",
    "    c = np.concatenate((\n",
    "        np.concatenate((blank, strip, np.flip(np.transpose(a[top]), axis=0), strip, blank, strip, blank), axis=1),\n",
    "        np.concatenate((np.flip(a[left], axis=1), strip, a[front], strip, a[right], strip, np.flip(a[back], axis=1)), axis=1),\n",
    "        np.concatenate((blank, strip, np.transpose(a[bottom]), strip, blank, strip, blank), axis=1)\n",
    "    ))\n",
    "    for i in range(c.shape[0]):\n",
    "        print(' '.join(c[i,:]) )\n",
    "p()"
   ]
  },
  {
   "cell_type": "code",
   "execution_count": 98,
   "id": "aac9c9f2",
   "metadata": {},
   "outputs": [
    {
     "name": "stdout",
     "output_type": "stream",
     "text": [
      "a s B   d - C   g K D\n",
      "b t -   e - -   h L -\n",
      "c u T   f - U   i M V\n",
      "                     \n",
      "- v E   - - F   - N G\n",
      "- w -   - - -   - O -\n",
      "- x W   - - X   - P Y\n",
      "                     \n",
      "j y H   m - I   p Q J\n",
      "k z -   n - -   q R -\n",
      "l A Z   o - 0   r S 1\n",
      "----\n"
     ]
    }
   ],
   "source": [
    "def p4(a=a): # Print the 4D hypercube as a 3x3 grid of 3x3 grids\n",
    "    blank = np.zeros(3*3 + 2, dtype='str').reshape([1,11]); blank[:,:] = ' '\n",
    "    strip = np.zeros(3*1, dtype='str').reshape([3,1]); strip[:,:] = ' '\n",
    "    c = np.concatenate((\n",
    "        np.concatenate([a[0,0,:,:], strip, a[0,1,:,:], strip, a[0,2,:,:]], axis=1), blank,\n",
    "        np.concatenate([a[1,0,:,:], strip, a[1,1,:,:], strip, a[1,2,:,:]], axis=1), blank,\n",
    "        np.concatenate([a[2,0,:,:], strip, a[2,1,:,:], strip, a[2,2,:,:]], axis=1)\n",
    "    ))\n",
    "    for i in range(c.shape[0]):\n",
    "        print(' '.join(c[i]) )\n",
    "    print('----')\n",
    "\n",
    "p4()"
   ]
  },
  {
   "cell_type": "code",
   "execution_count": 99,
   "id": "8c9ae873",
   "metadata": {},
   "outputs": [
    {
     "name": "stdout",
     "output_type": "stream",
     "text": [
      "        c f i                \n",
      "        b e h                \n",
      "        a d g                \n",
      "u t s   B C D   K L M   V U T\n",
      "x w v   E F G   N O P   Y X W\n",
      "A z y   H I J   Q R S   1 0 Z\n",
      "        j m p                \n",
      "        k n q                \n",
      "        l o r                \n",
      "        a b c                \n",
      "        d e f                \n",
      "        g h i                \n",
      "B C D   K L M   V U T   u t s\n",
      "x w v   E F G   N O P   Y X W\n",
      "A z y   H I J   Q R S   1 0 Z\n",
      "        j m p                \n",
      "        k n q                \n",
      "        l o r                \n"
     ]
    }
   ],
   "source": [
    "# Rotate the top clockwise\n",
    "def rotate_top(cube):\n",
    "    b=cube.copy()\n",
    "    b[0,:,:,:]=np.rot90(b[0,:,:,:], axes=[0, 1], k=-1)\n",
    "    #p4(b)\n",
    "    c=b.copy()\n",
    "    c[0,:,:,1] = b[0,:,:,2]\n",
    "    c[0,:,:,2] = b[0,:,:,1]\n",
    "    return c\n",
    "\n",
    "p(a)\n",
    "p(rotate_top(a))"
   ]
  },
  {
   "cell_type": "code",
   "execution_count": 116,
   "id": "5bd2c897",
   "metadata": {},
   "outputs": [
    {
     "name": "stdout",
     "output_type": "stream",
     "text": [
      "a s B   d - C   g K D\n",
      "b t -   e - -   h L -\n",
      "c u T   f - U   i M V\n",
      "                     \n",
      "- v E   - - F   - N G\n",
      "- w -   - - -   - O -\n",
      "- x W   - - X   - P Y\n",
      "                     \n",
      "j y H   m - I   p Q J\n",
      "k z -   n - -   q R -\n",
      "l A Z   o - 0   r S 1\n",
      "----\n"
     ]
    },
    {
     "data": {
      "text/plain": [
       "array([[[['T', 'u', 'c'],\n",
       "         ['W', 'x', '-'],\n",
       "         ['Z', 'A', 'l']],\n",
       "\n",
       "        [['U', '-', 'f'],\n",
       "         ['X', '-', '-'],\n",
       "         ['0', '-', 'o']],\n",
       "\n",
       "        [['V', 'M', 'i'],\n",
       "         ['Y', 'P', '-'],\n",
       "         ['1', 'S', 'r']]],\n",
       "\n",
       "\n",
       "       [[['-', 't', 'b'],\n",
       "         ['-', 'w', '-'],\n",
       "         ['-', 'z', 'k']],\n",
       "\n",
       "        [['-', '-', 'e'],\n",
       "         ['-', '-', '-'],\n",
       "         ['-', '-', 'n']],\n",
       "\n",
       "        [['-', 'L', 'h'],\n",
       "         ['-', 'O', '-'],\n",
       "         ['-', 'R', 'q']]],\n",
       "\n",
       "\n",
       "       [[['B', 's', 'a'],\n",
       "         ['E', 'v', '-'],\n",
       "         ['H', 'y', 'j']],\n",
       "\n",
       "        [['C', '-', 'd'],\n",
       "         ['F', '-', '-'],\n",
       "         ['I', '-', 'm']],\n",
       "\n",
       "        [['D', 'K', 'g'],\n",
       "         ['G', 'N', '-'],\n",
       "         ['J', 'Q', 'p']]]], dtype='<U1')"
      ]
     },
     "execution_count": 116,
     "metadata": {},
     "output_type": "execute_result"
    }
   ],
   "source": [
    "p4(a)\n",
    "def reorient(cube, newTop):\n",
    "    ax=[0,1,2,3]\n",
    "    roll = 0\n",
    "    k=1\n",
    "    match newTop:\n",
    "        case 'U': ax=[0,1]; k=0; roll=0\n",
    "        case 'D': ax=[1,0]; k=2; roll=0\n",
    "        case 'L': ax=[1,0]; k=1; roll=-1\n",
    "        case 'R': ax=[1,0]; k=3; roll=-1\n",
    "        case 'F': ax=[2,0]; k=1; roll=-1\n",
    "        case 'B': ax=[2,0]; k=3; roll=-1\n",
    "    #print(cube[0,0,0,:], cube[2,2,2,:])\n",
    "    cube = np.rot90(cube, k=k, axes=ax)\n",
    "    #p(cube)\n",
    "    old = cube.copy()\n",
    "    cube = cube.copy()\n",
    "    match newTop:  # Reorient the fourth/faces dimension\n",
    "        case 'L' | 'R': \n",
    "            cube[:,:,:,0] = old[:,:,:,1]\n",
    "            cube[:,:,:,1] = old[:,:,:,0]\n",
    "        case 'F' | 'B': \n",
    "            cube[:,:,:,0] = old[:,:,:,2]\n",
    "            cube[:,:,:,2] = old[:,:,:,0]\n",
    "    #p(cube)\n",
    "    #print(cube[2,2,2,:])\n",
    "    return cube\n",
    "# axes = (up/down, left/right, back/front, faces)\n",
    "# faces = the colors of (up/down, left/right, back/front)\n",
    "reorient(a, 'B')"
   ]
  },
  {
   "cell_type": "code",
   "execution_count": 124,
   "id": "5829927c",
   "metadata": {},
   "outputs": [
    {
     "name": "stdout",
     "output_type": "stream",
     "text": [
      "        c f i                \n",
      "        b e h                \n",
      "        a d g                \n",
      "u t s   B C D   K L M   V U T\n",
      "x w v   E F G   N O P   Y X W\n",
      "A z y   H I J   Q R S   1 0 Z\n",
      "        j m p                \n",
      "        k n q                \n",
      "        l o r                \n",
      "B\n",
      "hi!\n",
      "        M P S                \n",
      "        b e h                \n",
      "        a d g                \n",
      "i t s   B C D   K L r   1 Y V\n",
      "f w v   E F G   N O o   0 X U\n",
      "c z y   H I J   Q R l   Z W T\n",
      "        j m p                \n",
      "        k n q                \n",
      "        u x A                \n"
     ]
    }
   ],
   "source": [
    "#udlrfb\n",
    "#L = Clockwise, L' = counterclockwise\n",
    "p(a)\n",
    "def perm(face, cube):\n",
    "    match face[0]:\n",
    "        case 'U': x=('U', 'U')\n",
    "        case 'D': x=('D', 'D')\n",
    "        case 'L': x=('L', 'R')\n",
    "        case 'R': x=('R', 'L')\n",
    "        case 'F': x=('F', 'B')\n",
    "        case 'B': x=('B', 'F')\n",
    "    b=cube.copy()    \n",
    "    b = reorient(b, x[0])\n",
    "    #p(b)\n",
    "    print(x[0])\n",
    "    for i in range(1 if len(face) == 1 else 3):\n",
    "        b = rotate_top(b)\n",
    "        print(\"hi!\")\n",
    "    #p(b)\n",
    "    b = reorient(b, x[1]) \n",
    "    return b\n",
    "\n",
    "p(perm(\"B\", a))"
   ]
  }
 ],
 "metadata": {
  "kernelspec": {
   "display_name": ".venv",
   "language": "python",
   "name": "python3"
  },
  "language_info": {
   "codemirror_mode": {
    "name": "ipython",
    "version": 3
   },
   "file_extension": ".py",
   "mimetype": "text/x-python",
   "name": "python",
   "nbconvert_exporter": "python",
   "pygments_lexer": "ipython3",
   "version": "3.13.5"
  }
 },
 "nbformat": 4,
 "nbformat_minor": 5
}
